{
 "cells": [
  {
   "cell_type": "markdown",
   "id": "08d9cff2",
   "metadata": {},
   "source": [
    "Thomas Koutsidis"
   ]
  },
  {
   "cell_type": "code",
   "execution_count": 1,
   "id": "313dbdd0",
   "metadata": {},
   "outputs": [],
   "source": [
    "import pandas as pd\n",
    "import numpy as np"
   ]
  },
  {
   "cell_type": "code",
   "execution_count": 2,
   "id": "9b1725a3",
   "metadata": {},
   "outputs": [],
   "source": [
    "df = pd.read_csv('model.csv')\n",
    "df_v = pd.read_csv('val.csv')"
   ]
  },
  {
   "cell_type": "code",
   "execution_count": 3,
   "id": "e980dbae",
   "metadata": {},
   "outputs": [],
   "source": [
    "# Cleaning and preparing our df for model. \n",
    "# There are no NaN values, just 0s. I replaced the 0s with the mean of the column.\n",
    "# I did not clean the column \"default\" because that column will be for predictions.\n",
    "\n",
    "for column in df.columns:\n",
    "    if column != \"default\":\n",
    "        df[column].replace(0, df[column].mean(), inplace = True)"
   ]
  },
  {
   "cell_type": "code",
   "execution_count": 4,
   "id": "c7fccd16",
   "metadata": {},
   "outputs": [],
   "source": [
    "# Cleaning and preparing our df for val. \n",
    "# There are no NaN values, just 0s. I replaced the 0s with the mean of the column.\n",
    "# I did not clean the column \"default\" because that column will be for predictions.\n",
    "\n",
    "for column in df_v.columns:\n",
    "    if column != \"default\":\n",
    "        df_v[column].replace(0, df_v[column].mean(), inplace = True)"
   ]
  },
  {
   "cell_type": "code",
   "execution_count": 5,
   "id": "6e4dac4e",
   "metadata": {},
   "outputs": [],
   "source": [
    "# K Fold Cross Validation is a good way to avoid data leakage.\n",
    "# I will perform K Fold on the datasets.\n",
    "\n",
    "from sklearn.model_selection import KFold\n",
    "\n",
    "kf = KFold(n_splits = 10, shuffle = True)\n",
    "\n",
    "# Resources used:\n",
    "# https://towardsdatascience.com/what-is-data-leakage-and-how-can-it-be-avoided-in-machine-learning-eb435a27c3e3\n",
    "# https://www.statology.org/k-fold-cross-validation-in-python/"
   ]
  },
  {
   "cell_type": "code",
   "execution_count": 6,
   "id": "41543d75",
   "metadata": {},
   "outputs": [],
   "source": [
    "# Below is a logistic regression.\n",
    "\n",
    "from sklearn.linear_model import LogisticRegression\n",
    "from sklearn.metrics import roc_auc_score\n",
    "\n",
    "auc_scores = []\n",
    "\n",
    "for train_index, test_index in kf.split(df):\n",
    "    X_train, X_test = df.iloc[train_index], df.iloc[test_index]\n",
    "    y_train, y_test = df[\"default\"].iloc[train_index], df[\"default\"].iloc[test_index]\n",
    "\n",
    "    model = LogisticRegression(solver = 'liblinear')\n",
    "    model.fit(X_train, y_train)\n",
    "\n",
    "    predictions = model.predict_proba(X_test)\n",
    "    auc_scores.append(roc_auc_score(y_test, predictions[:, 1]))\n",
    "    \n",
    "# Resources used:\n",
    "# https://scikit-learn.org/stable/modules/generated/sklearn.metrics.roc_auc_score.html\n",
    "# https://www.statology.org/auc-in-python/\n",
    "# https://stackoverflow.com/questions/61184906/difference-between-predict-vs-predict-proba-in-scikit-learn\n",
    "# https://www.kaggle.com/discussions/questions-and-answers/155495\n",
    "# https://towardsdatascience.com/dont-sweat-the-solver-stuff-aea7cddc3451"
   ]
  },
  {
   "cell_type": "code",
   "execution_count": 7,
   "id": "7c6c4a9d",
   "metadata": {},
   "outputs": [
    {
     "name": "stdout",
     "output_type": "stream",
     "text": [
      "Scores: [0.8271581995375672, 0.8093723263591819, 0.8155871044069801, 0.871156899620666, 0.8062554575287106, 0.8342679712513613, 0.8180831092883073, 0.8200026542913899, 0.8250598136204239, 0.8009913292266697]\n",
      "Mean: 0.8227934865131257\n"
     ]
    }
   ],
   "source": [
    "print(\"Scores:\", auc_scores)\n",
    "mean_auc_score = np.mean(auc_scores)\n",
    "print(\"Mean:\", mean_auc_score)"
   ]
  },
  {
   "cell_type": "code",
   "execution_count": 8,
   "id": "6e99a347",
   "metadata": {},
   "outputs": [],
   "source": [
    "# Below is a decision tree regression.\n",
    "# Decision tree regression is my second method, in addition to logistic regression. \n",
    "\n",
    "from sklearn.tree import DecisionTreeClassifier\n",
    "\n",
    "auc_scores2 = []\n",
    "\n",
    "for train_index, test_index in kf.split(df):\n",
    "    X_train, X_test = df.iloc[train_index], df.iloc[test_index]\n",
    "    y_train, y_test = df[\"default\"].iloc[train_index], df[\"default\"].iloc[test_index]\n",
    "\n",
    "    model_decision_tree = DecisionTreeClassifier()\n",
    "    model_decision_tree.fit(X_train, y_train)\n",
    "\n",
    "    predictions_decision_tree = model_decision_tree.predict_proba(X_test)\n",
    "    auc_scores2.append(roc_auc_score(y_test, predictions_decision_tree[:, 1]))\n",
    "    \n",
    "# https://stackoverflow.com/questions/61184906/difference-between-predict-vs-predict-proba-in-scikit-learn\n",
    "# https://scikit-learn.org/stable/auto_examples/tree/plot_tree_regression.html"
   ]
  },
  {
   "cell_type": "code",
   "execution_count": 9,
   "id": "7b9ed6ef",
   "metadata": {},
   "outputs": [
    {
     "name": "stdout",
     "output_type": "stream",
     "text": [
      "Scores: [1.0, 1.0, 1.0, 1.0, 1.0, 1.0, 1.0, 1.0, 1.0, 1.0]\n",
      "Mean: 1.0\n"
     ]
    }
   ],
   "source": [
    "print(\"Scores:\", auc_scores2)\n",
    "mean_auc_score2 = np.mean(auc_scores2)\n",
    "print(\"Mean:\", mean_auc_score2)"
   ]
  },
  {
   "cell_type": "code",
   "execution_count": 10,
   "id": "7a7046d9",
   "metadata": {},
   "outputs": [
    {
     "name": "stdout",
     "output_type": "stream",
     "text": [
      "Logistic Regression Predictions: [[0.88935039 0.11064961]\n",
      " [0.9706202  0.0293798 ]\n",
      " [0.81951566 0.18048434]\n",
      " ...\n",
      " [0.9236294  0.0763706 ]\n",
      " [0.92568837 0.07431163]\n",
      " [0.93847746 0.06152254]]\n"
     ]
    }
   ],
   "source": [
    "predictions_logistic_regression = model.predict_proba(df_v)\n",
    "print(\"Logistic Regression Predictions:\", predictions_logistic_regression)"
   ]
  },
  {
   "cell_type": "code",
   "execution_count": 11,
   "id": "0503ca4c",
   "metadata": {},
   "outputs": [
    {
     "name": "stdout",
     "output_type": "stream",
     "text": [
      "Decision Tree Regression Predictions: [[0. 1.]\n",
      " [0. 1.]\n",
      " [0. 1.]\n",
      " ...\n",
      " [1. 0.]\n",
      " [1. 0.]\n",
      " [1. 0.]]\n"
     ]
    }
   ],
   "source": [
    "predictions_decision_regression = model_decision_tree.predict_proba(df_v)\n",
    "print(\"Decision Tree Regression Predictions:\", predictions_decision_regression)"
   ]
  },
  {
   "cell_type": "code",
   "execution_count": 12,
   "id": "b243a832",
   "metadata": {},
   "outputs": [],
   "source": [
    "# Saving results into a CSV file\n",
    "\n",
    "predictions_logistic_regression = pd.DataFrame(predictions[:, 1])\n",
    "predictions_logistic_regression.to_csv(\"results1.csv\")"
   ]
  },
  {
   "cell_type": "code",
   "execution_count": 13,
   "id": "912ce86c",
   "metadata": {},
   "outputs": [],
   "source": [
    "# Saving results into a CSV file\n",
    "\n",
    "predictions_decision_tree = pd.DataFrame(predictions_decision_tree[:, 1])\n",
    "predictions_decision_tree.to_csv(\"results2.csv\")"
   ]
  }
 ],
 "metadata": {
  "kernelspec": {
   "display_name": "Python 3 (ipykernel)",
   "language": "python",
   "name": "python3"
  },
  "language_info": {
   "codemirror_mode": {
    "name": "ipython",
    "version": 3
   },
   "file_extension": ".py",
   "mimetype": "text/x-python",
   "name": "python",
   "nbconvert_exporter": "python",
   "pygments_lexer": "ipython3",
   "version": "3.9.13"
  }
 },
 "nbformat": 4,
 "nbformat_minor": 5
}
