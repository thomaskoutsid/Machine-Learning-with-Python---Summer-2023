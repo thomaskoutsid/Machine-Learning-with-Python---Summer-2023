{
 "cells": [
  {
   "cell_type": "code",
   "execution_count": 1,
   "metadata": {},
   "outputs": [],
   "source": [
    "import pandas as pd\n",
    "import numpy as np\n",
    "import matplotlib.pyplot as plt"
   ]
  },
  {
   "cell_type": "markdown",
   "metadata": {},
   "source": [
    "# 1."
   ]
  },
  {
   "cell_type": "code",
   "execution_count": 2,
   "metadata": {},
   "outputs": [],
   "source": [
    "df = pd.read_excel(\"Raisin_Dataset.xlsx\")"
   ]
  },
  {
   "cell_type": "code",
   "execution_count": 3,
   "metadata": {
    "scrolled": true
   },
   "outputs": [
    {
     "data": {
      "text/html": [
       "<div>\n",
       "<style scoped>\n",
       "    .dataframe tbody tr th:only-of-type {\n",
       "        vertical-align: middle;\n",
       "    }\n",
       "\n",
       "    .dataframe tbody tr th {\n",
       "        vertical-align: top;\n",
       "    }\n",
       "\n",
       "    .dataframe thead th {\n",
       "        text-align: right;\n",
       "    }\n",
       "</style>\n",
       "<table border=\"1\" class=\"dataframe\">\n",
       "  <thead>\n",
       "    <tr style=\"text-align: right;\">\n",
       "      <th></th>\n",
       "      <th>Area</th>\n",
       "      <th>MajorAxisLength</th>\n",
       "      <th>MinorAxisLength</th>\n",
       "      <th>Eccentricity</th>\n",
       "      <th>ConvexArea</th>\n",
       "      <th>Extent</th>\n",
       "      <th>Perimeter</th>\n",
       "      <th>Class</th>\n",
       "    </tr>\n",
       "  </thead>\n",
       "  <tbody>\n",
       "    <tr>\n",
       "      <th>0</th>\n",
       "      <td>87524</td>\n",
       "      <td>442.246011</td>\n",
       "      <td>253.291155</td>\n",
       "      <td>0.819738</td>\n",
       "      <td>90546</td>\n",
       "      <td>0.758651</td>\n",
       "      <td>1184.040</td>\n",
       "      <td>Kecimen</td>\n",
       "    </tr>\n",
       "    <tr>\n",
       "      <th>1</th>\n",
       "      <td>75166</td>\n",
       "      <td>406.690687</td>\n",
       "      <td>243.032436</td>\n",
       "      <td>0.801805</td>\n",
       "      <td>78789</td>\n",
       "      <td>0.684130</td>\n",
       "      <td>1121.786</td>\n",
       "      <td>Kecimen</td>\n",
       "    </tr>\n",
       "    <tr>\n",
       "      <th>2</th>\n",
       "      <td>90856</td>\n",
       "      <td>442.267048</td>\n",
       "      <td>266.328318</td>\n",
       "      <td>0.798354</td>\n",
       "      <td>93717</td>\n",
       "      <td>0.637613</td>\n",
       "      <td>1208.575</td>\n",
       "      <td>Kecimen</td>\n",
       "    </tr>\n",
       "    <tr>\n",
       "      <th>3</th>\n",
       "      <td>45928</td>\n",
       "      <td>286.540559</td>\n",
       "      <td>208.760042</td>\n",
       "      <td>0.684989</td>\n",
       "      <td>47336</td>\n",
       "      <td>0.699599</td>\n",
       "      <td>844.162</td>\n",
       "      <td>Kecimen</td>\n",
       "    </tr>\n",
       "    <tr>\n",
       "      <th>4</th>\n",
       "      <td>79408</td>\n",
       "      <td>352.190770</td>\n",
       "      <td>290.827533</td>\n",
       "      <td>0.564011</td>\n",
       "      <td>81463</td>\n",
       "      <td>0.792772</td>\n",
       "      <td>1073.251</td>\n",
       "      <td>Kecimen</td>\n",
       "    </tr>\n",
       "    <tr>\n",
       "      <th>...</th>\n",
       "      <td>...</td>\n",
       "      <td>...</td>\n",
       "      <td>...</td>\n",
       "      <td>...</td>\n",
       "      <td>...</td>\n",
       "      <td>...</td>\n",
       "      <td>...</td>\n",
       "      <td>...</td>\n",
       "    </tr>\n",
       "    <tr>\n",
       "      <th>895</th>\n",
       "      <td>83248</td>\n",
       "      <td>430.077308</td>\n",
       "      <td>247.838695</td>\n",
       "      <td>0.817263</td>\n",
       "      <td>85839</td>\n",
       "      <td>0.668793</td>\n",
       "      <td>1129.072</td>\n",
       "      <td>Besni</td>\n",
       "    </tr>\n",
       "    <tr>\n",
       "      <th>896</th>\n",
       "      <td>87350</td>\n",
       "      <td>440.735698</td>\n",
       "      <td>259.293149</td>\n",
       "      <td>0.808629</td>\n",
       "      <td>90899</td>\n",
       "      <td>0.636476</td>\n",
       "      <td>1214.252</td>\n",
       "      <td>Besni</td>\n",
       "    </tr>\n",
       "    <tr>\n",
       "      <th>897</th>\n",
       "      <td>99657</td>\n",
       "      <td>431.706981</td>\n",
       "      <td>298.837323</td>\n",
       "      <td>0.721684</td>\n",
       "      <td>106264</td>\n",
       "      <td>0.741099</td>\n",
       "      <td>1292.828</td>\n",
       "      <td>Besni</td>\n",
       "    </tr>\n",
       "    <tr>\n",
       "      <th>898</th>\n",
       "      <td>93523</td>\n",
       "      <td>476.344094</td>\n",
       "      <td>254.176054</td>\n",
       "      <td>0.845739</td>\n",
       "      <td>97653</td>\n",
       "      <td>0.658798</td>\n",
       "      <td>1258.548</td>\n",
       "      <td>Besni</td>\n",
       "    </tr>\n",
       "    <tr>\n",
       "      <th>899</th>\n",
       "      <td>85609</td>\n",
       "      <td>512.081774</td>\n",
       "      <td>215.271976</td>\n",
       "      <td>0.907345</td>\n",
       "      <td>89197</td>\n",
       "      <td>0.632020</td>\n",
       "      <td>1272.862</td>\n",
       "      <td>Besni</td>\n",
       "    </tr>\n",
       "  </tbody>\n",
       "</table>\n",
       "<p>900 rows × 8 columns</p>\n",
       "</div>"
      ],
      "text/plain": [
       "      Area  MajorAxisLength  MinorAxisLength  Eccentricity  ConvexArea  \\\n",
       "0    87524       442.246011       253.291155      0.819738       90546   \n",
       "1    75166       406.690687       243.032436      0.801805       78789   \n",
       "2    90856       442.267048       266.328318      0.798354       93717   \n",
       "3    45928       286.540559       208.760042      0.684989       47336   \n",
       "4    79408       352.190770       290.827533      0.564011       81463   \n",
       "..     ...              ...              ...           ...         ...   \n",
       "895  83248       430.077308       247.838695      0.817263       85839   \n",
       "896  87350       440.735698       259.293149      0.808629       90899   \n",
       "897  99657       431.706981       298.837323      0.721684      106264   \n",
       "898  93523       476.344094       254.176054      0.845739       97653   \n",
       "899  85609       512.081774       215.271976      0.907345       89197   \n",
       "\n",
       "       Extent  Perimeter    Class  \n",
       "0    0.758651   1184.040  Kecimen  \n",
       "1    0.684130   1121.786  Kecimen  \n",
       "2    0.637613   1208.575  Kecimen  \n",
       "3    0.699599    844.162  Kecimen  \n",
       "4    0.792772   1073.251  Kecimen  \n",
       "..        ...        ...      ...  \n",
       "895  0.668793   1129.072    Besni  \n",
       "896  0.636476   1214.252    Besni  \n",
       "897  0.741099   1292.828    Besni  \n",
       "898  0.658798   1258.548    Besni  \n",
       "899  0.632020   1272.862    Besni  \n",
       "\n",
       "[900 rows x 8 columns]"
      ]
     },
     "execution_count": 3,
     "metadata": {},
     "output_type": "execute_result"
    }
   ],
   "source": [
    "df"
   ]
  },
  {
   "cell_type": "markdown",
   "metadata": {},
   "source": [
    "## A."
   ]
  },
  {
   "cell_type": "code",
   "execution_count": 4,
   "metadata": {},
   "outputs": [],
   "source": [
    "from sklearn.model_selection import train_test_split\n",
    "\n",
    "X = df.drop('Class', axis = 1)\n",
    "y = df['Class']\n",
    "\n",
    "X_train, X_test, y_train, y_test = train_test_split(X, y, test_size = 0.2, random_state = 0)"
   ]
  },
  {
   "cell_type": "code",
   "execution_count": 5,
   "metadata": {},
   "outputs": [
    {
     "name": "stdout",
     "output_type": "stream",
     "text": [
      "       Area  MajorAxisLength  MinorAxisLength  Eccentricity  ConvexArea  \\\n",
      "304   61959       339.585018       234.697936      0.722729       64424   \n",
      "831   48488       275.337717       226.802199      0.566991       50103   \n",
      "240   51145       317.348237       211.025592      0.746874       53531   \n",
      "1     75166       406.690687       243.032436      0.801805       78789   \n",
      "439   98485       387.762836       325.737166      0.542521      100682   \n",
      "..      ...              ...              ...           ...         ...   \n",
      "835   87039       497.058056       236.212773      0.879866       96247   \n",
      "192   37569       232.427848       208.152006      0.444950       38874   \n",
      "629   83059       440.559971       243.636512      0.833171       88806   \n",
      "559  139399       522.468010       348.282162      0.745407      144034   \n",
      "684   88257       452.924593       254.482193      0.827229       92886   \n",
      "\n",
      "       Extent  Perimeter  \n",
      "304  0.712041    970.754  \n",
      "831  0.669594    859.326  \n",
      "240  0.710051    895.040  \n",
      "1    0.684130   1121.786  \n",
      "439  0.729865   1193.908  \n",
      "..        ...        ...  \n",
      "835  0.636981   1271.343  \n",
      "192  0.794371    734.102  \n",
      "629  0.685809   1238.163  \n",
      "559  0.693631   1471.508  \n",
      "684  0.736088   1209.622  \n",
      "\n",
      "[720 rows x 7 columns]\n"
     ]
    }
   ],
   "source": [
    "print(X_train)"
   ]
  },
  {
   "cell_type": "code",
   "execution_count": 6,
   "metadata": {},
   "outputs": [
    {
     "name": "stdout",
     "output_type": "stream",
     "text": [
      "304    Kecimen\n",
      "831      Besni\n",
      "240    Kecimen\n",
      "1      Kecimen\n",
      "439    Kecimen\n",
      "        ...   \n",
      "835      Besni\n",
      "192    Kecimen\n",
      "629      Besni\n",
      "559      Besni\n",
      "684      Besni\n",
      "Name: Class, Length: 720, dtype: object\n"
     ]
    }
   ],
   "source": [
    "print(y_train)"
   ]
  },
  {
   "cell_type": "code",
   "execution_count": 7,
   "metadata": {
    "scrolled": true
   },
   "outputs": [
    {
     "name": "stdout",
     "output_type": "stream",
     "text": [
      "       Area  MajorAxisLength  MinorAxisLength  Eccentricity  ConvexArea  \\\n",
      "492  100443       457.569872       283.611280      0.784743      104186   \n",
      "141   53698       348.223231       197.752897      0.823104       56089   \n",
      "409  104921       452.863013       297.024187      0.754864      108211   \n",
      "31    41809       307.532739       175.085568      0.822114       43838   \n",
      "570  101223       496.533461       276.866203      0.830111      109593   \n",
      "..      ...              ...              ...           ...         ...   \n",
      "408   82793       428.116905       249.390880      0.812809       84950   \n",
      "75    50570       311.344795       208.317898      0.743181       51743   \n",
      "778  148073       599.362814       327.084068      0.837968      152985   \n",
      "202   74763       391.227169       245.542020      0.778520       77508   \n",
      "181   67718       373.924098       233.233205      0.781628       71102   \n",
      "\n",
      "       Extent  Perimeter  \n",
      "492  0.673789   1269.066  \n",
      "141  0.731341    938.705  \n",
      "409  0.726298   1254.861  \n",
      "31   0.697444    828.697  \n",
      "570  0.713612   1345.426  \n",
      "..        ...        ...  \n",
      "408  0.742458   1130.673  \n",
      "75   0.720863    873.777  \n",
      "778  0.690156   1557.606  \n",
      "202  0.686113   1063.377  \n",
      "181  0.736994   1024.993  \n",
      "\n",
      "[180 rows x 7 columns]\n"
     ]
    }
   ],
   "source": [
    "print(X_test)"
   ]
  },
  {
   "cell_type": "code",
   "execution_count": 8,
   "metadata": {},
   "outputs": [
    {
     "name": "stdout",
     "output_type": "stream",
     "text": [
      "492      Besni\n",
      "141    Kecimen\n",
      "409    Kecimen\n",
      "31     Kecimen\n",
      "570      Besni\n",
      "        ...   \n",
      "408    Kecimen\n",
      "75     Kecimen\n",
      "778      Besni\n",
      "202    Kecimen\n",
      "181    Kecimen\n",
      "Name: Class, Length: 180, dtype: object\n"
     ]
    }
   ],
   "source": [
    "print(y_test)"
   ]
  },
  {
   "cell_type": "code",
   "execution_count": 9,
   "metadata": {},
   "outputs": [],
   "source": [
    "from sklearn.preprocessing import StandardScaler\n",
    "sc = StandardScaler()\n",
    "X_train = sc.fit_transform(X_train)\n",
    "X_test = sc.transform(X_test)"
   ]
  },
  {
   "cell_type": "markdown",
   "metadata": {},
   "source": [
    "## B."
   ]
  },
  {
   "cell_type": "code",
   "execution_count": 10,
   "metadata": {},
   "outputs": [
    {
     "data": {
      "text/html": [
       "<style>#sk-container-id-1 {color: black;background-color: white;}#sk-container-id-1 pre{padding: 0;}#sk-container-id-1 div.sk-toggleable {background-color: white;}#sk-container-id-1 label.sk-toggleable__label {cursor: pointer;display: block;width: 100%;margin-bottom: 0;padding: 0.3em;box-sizing: border-box;text-align: center;}#sk-container-id-1 label.sk-toggleable__label-arrow:before {content: \"▸\";float: left;margin-right: 0.25em;color: #696969;}#sk-container-id-1 label.sk-toggleable__label-arrow:hover:before {color: black;}#sk-container-id-1 div.sk-estimator:hover label.sk-toggleable__label-arrow:before {color: black;}#sk-container-id-1 div.sk-toggleable__content {max-height: 0;max-width: 0;overflow: hidden;text-align: left;background-color: #f0f8ff;}#sk-container-id-1 div.sk-toggleable__content pre {margin: 0.2em;color: black;border-radius: 0.25em;background-color: #f0f8ff;}#sk-container-id-1 input.sk-toggleable__control:checked~div.sk-toggleable__content {max-height: 200px;max-width: 100%;overflow: auto;}#sk-container-id-1 input.sk-toggleable__control:checked~label.sk-toggleable__label-arrow:before {content: \"▾\";}#sk-container-id-1 div.sk-estimator input.sk-toggleable__control:checked~label.sk-toggleable__label {background-color: #d4ebff;}#sk-container-id-1 div.sk-label input.sk-toggleable__control:checked~label.sk-toggleable__label {background-color: #d4ebff;}#sk-container-id-1 input.sk-hidden--visually {border: 0;clip: rect(1px 1px 1px 1px);clip: rect(1px, 1px, 1px, 1px);height: 1px;margin: -1px;overflow: hidden;padding: 0;position: absolute;width: 1px;}#sk-container-id-1 div.sk-estimator {font-family: monospace;background-color: #f0f8ff;border: 1px dotted black;border-radius: 0.25em;box-sizing: border-box;margin-bottom: 0.5em;}#sk-container-id-1 div.sk-estimator:hover {background-color: #d4ebff;}#sk-container-id-1 div.sk-parallel-item::after {content: \"\";width: 100%;border-bottom: 1px solid gray;flex-grow: 1;}#sk-container-id-1 div.sk-label:hover label.sk-toggleable__label {background-color: #d4ebff;}#sk-container-id-1 div.sk-serial::before {content: \"\";position: absolute;border-left: 1px solid gray;box-sizing: border-box;top: 0;bottom: 0;left: 50%;z-index: 0;}#sk-container-id-1 div.sk-serial {display: flex;flex-direction: column;align-items: center;background-color: white;padding-right: 0.2em;padding-left: 0.2em;position: relative;}#sk-container-id-1 div.sk-item {position: relative;z-index: 1;}#sk-container-id-1 div.sk-parallel {display: flex;align-items: stretch;justify-content: center;background-color: white;position: relative;}#sk-container-id-1 div.sk-item::before, #sk-container-id-1 div.sk-parallel-item::before {content: \"\";position: absolute;border-left: 1px solid gray;box-sizing: border-box;top: 0;bottom: 0;left: 50%;z-index: -1;}#sk-container-id-1 div.sk-parallel-item {display: flex;flex-direction: column;z-index: 1;position: relative;background-color: white;}#sk-container-id-1 div.sk-parallel-item:first-child::after {align-self: flex-end;width: 50%;}#sk-container-id-1 div.sk-parallel-item:last-child::after {align-self: flex-start;width: 50%;}#sk-container-id-1 div.sk-parallel-item:only-child::after {width: 0;}#sk-container-id-1 div.sk-dashed-wrapped {border: 1px dashed gray;margin: 0 0.4em 0.5em 0.4em;box-sizing: border-box;padding-bottom: 0.4em;background-color: white;}#sk-container-id-1 div.sk-label label {font-family: monospace;font-weight: bold;display: inline-block;line-height: 1.2em;}#sk-container-id-1 div.sk-label-container {text-align: center;}#sk-container-id-1 div.sk-container {/* jupyter's `normalize.less` sets `[hidden] { display: none; }` but bootstrap.min.css set `[hidden] { display: none !important; }` so we also need the `!important` here to be able to override the default hidden behavior on the sphinx rendered scikit-learn.org. See: https://github.com/scikit-learn/scikit-learn/issues/21755 */display: inline-block !important;position: relative;}#sk-container-id-1 div.sk-text-repr-fallback {display: none;}</style><div id=\"sk-container-id-1\" class=\"sk-top-container\"><div class=\"sk-text-repr-fallback\"><pre>SVC(kernel=&#x27;linear&#x27;, random_state=0)</pre><b>In a Jupyter environment, please rerun this cell to show the HTML representation or trust the notebook. <br />On GitHub, the HTML representation is unable to render, please try loading this page with nbviewer.org.</b></div><div class=\"sk-container\" hidden><div class=\"sk-item\"><div class=\"sk-estimator sk-toggleable\"><input class=\"sk-toggleable__control sk-hidden--visually\" id=\"sk-estimator-id-1\" type=\"checkbox\" checked><label for=\"sk-estimator-id-1\" class=\"sk-toggleable__label sk-toggleable__label-arrow\">SVC</label><div class=\"sk-toggleable__content\"><pre>SVC(kernel=&#x27;linear&#x27;, random_state=0)</pre></div></div></div></div></div>"
      ],
      "text/plain": [
       "SVC(kernel='linear', random_state=0)"
      ]
     },
     "execution_count": 10,
     "metadata": {},
     "output_type": "execute_result"
    }
   ],
   "source": [
    "from sklearn.svm import SVC\n",
    "classifier = SVC(kernel = 'linear', random_state = 0)\n",
    "classifier.fit(X_train, y_train)"
   ]
  },
  {
   "cell_type": "code",
   "execution_count": 11,
   "metadata": {
    "scrolled": true
   },
   "outputs": [
    {
     "name": "stdout",
     "output_type": "stream",
     "text": [
      "[[-0.6548812  -0.78812672 -0.38730055 ... -0.65224802  0.23753637\n",
      "  -0.71404437]\n",
      " [-1.00293785 -1.35563187 -0.54502864 ... -1.00956114 -0.58197907\n",
      "  -1.13149817]\n",
      " [-0.93428768 -0.98454723 -0.86018782 ... -0.92403154  0.19911415\n",
      "  -0.99769926]\n",
      " ...\n",
      " [-0.10971045  0.10379878 -0.20874035 ... -0.04391002 -0.26892835\n",
      "   0.28777656]\n",
      " [ 1.34597299  0.82730363  1.88169876 ...  1.33404467 -0.11791121\n",
      "   1.16198015]\n",
      " [ 0.02459276  0.21301716  0.00791686 ...  0.05788717  0.70180368\n",
      "   0.18085058]]\n"
     ]
    }
   ],
   "source": [
    "print(X_train)"
   ]
  },
  {
   "cell_type": "code",
   "execution_count": 12,
   "metadata": {},
   "outputs": [
    {
     "name": "stdout",
     "output_type": "stream",
     "text": [
      "[[ 0.33944825  0.25404955  0.58980998 ...  0.33982546 -0.50100234\n",
      "   0.40355155]\n",
      " [-0.8683246  -0.7118242  -1.12532793 ... -0.8602087   0.61015172\n",
      "  -0.83411273]\n",
      " [ 0.45514847  0.21247322  0.85775103 ...  0.44025038  0.51278193\n",
      "   0.35033394]\n",
      " ...\n",
      " [ 1.57008726  1.5065259   1.45823802 ...  1.55737473 -0.18499717\n",
      "   1.48453765]\n",
      " [-0.32405815 -0.33196457 -0.17067523 ... -0.32579841 -0.263055\n",
      "  -0.36704161]\n",
      " [-0.50608318 -0.48480495 -0.41656055 ... -0.48562997  0.71929679\n",
      "  -0.51084341]]\n"
     ]
    }
   ],
   "source": [
    "print(X_test)"
   ]
  },
  {
   "cell_type": "code",
   "execution_count": 13,
   "metadata": {},
   "outputs": [
    {
     "name": "stdout",
     "output_type": "stream",
     "text": [
      "['Besni' 'Kecimen' 'Besni' 'Kecimen' 'Besni' 'Besni' 'Besni' 'Kecimen'\n",
      " 'Kecimen' 'Besni' 'Besni' 'Kecimen' 'Kecimen' 'Kecimen' 'Besni' 'Kecimen'\n",
      " 'Kecimen' 'Besni' 'Besni' 'Besni' 'Kecimen' 'Besni' 'Besni' 'Besni'\n",
      " 'Kecimen' 'Kecimen' 'Kecimen' 'Besni' 'Besni' 'Besni' 'Kecimen' 'Besni'\n",
      " 'Kecimen' 'Kecimen' 'Besni' 'Besni' 'Kecimen' 'Kecimen' 'Besni' 'Besni'\n",
      " 'Kecimen' 'Kecimen' 'Kecimen' 'Besni' 'Besni' 'Besni' 'Kecimen' 'Kecimen'\n",
      " 'Kecimen' 'Besni' 'Kecimen' 'Kecimen' 'Kecimen' 'Kecimen' 'Besni'\n",
      " 'Kecimen' 'Kecimen' 'Besni' 'Kecimen' 'Kecimen' 'Besni' 'Kecimen'\n",
      " 'Kecimen' 'Besni' 'Kecimen' 'Besni' 'Besni' 'Besni' 'Kecimen' 'Besni'\n",
      " 'Besni' 'Besni' 'Kecimen' 'Besni' 'Kecimen' 'Besni' 'Besni' 'Kecimen'\n",
      " 'Kecimen' 'Kecimen' 'Kecimen' 'Besni' 'Besni' 'Kecimen' 'Besni' 'Besni'\n",
      " 'Besni' 'Besni' 'Kecimen' 'Kecimen' 'Kecimen' 'Kecimen' 'Besni' 'Besni'\n",
      " 'Besni' 'Besni' 'Kecimen' 'Besni' 'Besni' 'Kecimen' 'Besni' 'Kecimen'\n",
      " 'Kecimen' 'Besni' 'Besni' 'Besni' 'Besni' 'Besni' 'Besni' 'Besni'\n",
      " 'Kecimen' 'Kecimen' 'Besni' 'Kecimen' 'Besni' 'Besni' 'Besni' 'Besni'\n",
      " 'Kecimen' 'Kecimen' 'Besni' 'Besni' 'Besni' 'Besni' 'Kecimen' 'Kecimen'\n",
      " 'Besni' 'Kecimen' 'Kecimen' 'Kecimen' 'Kecimen' 'Kecimen' 'Besni' 'Besni'\n",
      " 'Kecimen' 'Besni' 'Besni' 'Kecimen' 'Besni' 'Besni' 'Besni' 'Besni'\n",
      " 'Kecimen' 'Besni' 'Kecimen' 'Kecimen' 'Kecimen' 'Kecimen' 'Kecimen'\n",
      " 'Besni' 'Kecimen' 'Besni' 'Kecimen' 'Kecimen' 'Kecimen' 'Besni' 'Kecimen'\n",
      " 'Besni' 'Kecimen' 'Kecimen' 'Kecimen' 'Besni' 'Kecimen' 'Besni' 'Besni'\n",
      " 'Besni' 'Kecimen' 'Kecimen' 'Besni' 'Kecimen' 'Kecimen' 'Kecimen'\n",
      " 'Kecimen' 'Besni' 'Besni' 'Kecimen' 'Kecimen' 'Besni' 'Kecimen' 'Kecimen']\n"
     ]
    }
   ],
   "source": [
    "y_pred = classifier.predict(X_test)\n",
    "print(y_pred)"
   ]
  },
  {
   "cell_type": "code",
   "execution_count": 14,
   "metadata": {
    "scrolled": true
   },
   "outputs": [
    {
     "name": "stdout",
     "output_type": "stream",
     "text": [
      "[[85 12]\n",
      " [ 5 78]]\n",
      "Accuracy score: 0.9055555555555556\n"
     ]
    }
   ],
   "source": [
    "from sklearn.metrics import confusion_matrix, accuracy_score\n",
    "cm = confusion_matrix(y_test, y_pred)\n",
    "print(cm)\n",
    "print(\"Accuracy score:\", accuracy_score(y_test, y_pred))\n",
    "a1 = accuracy_score(y_test, y_pred)"
   ]
  },
  {
   "cell_type": "code",
   "execution_count": 15,
   "metadata": {
    "scrolled": true
   },
   "outputs": [
    {
     "data": {
      "image/png": "[encoded data removed]",
      "text/plain": [
       "<Figure size 640x480 with 2 Axes>"
      ]
     },
     "metadata": {},
     "output_type": "display_data"
    }
   ],
   "source": [
    "from sklearn.metrics import ConfusionMatrixDisplay\n",
    "\n",
    "disp = ConfusionMatrixDisplay(confusion_matrix = cm, display_labels = classifier.classes_)\n",
    "disp.plot()\n",
    "plt.show()\n",
    "\n",
    "# Resource used:\n",
    "# https://scikit-learn.org/stable/modules/generated/sklearn.metrics.ConfusionMatrixDisplay.html"
   ]
  },
  {
   "cell_type": "code",
   "execution_count": 16,
   "metadata": {
    "scrolled": true
   },
   "outputs": [
    {
     "data": {
      "image/png": "[encoded data removed]",
      "text/plain": [
       "<Figure size 640x480 with 1 Axes>"
      ]
     },
     "metadata": {},
     "output_type": "display_data"
    }
   ],
   "source": [
    "support_vectors = classifier.support_vectors_\n",
    "\n",
    "plt.scatter(support_vectors[:, 0], support_vectors[:, 1], c = 'black')\n",
    "plt.scatter(X_train[:, 0], X_train[:, 1], c = 'red', label = 'Training Data')\n",
    "plt.scatter(X_test[:, 0], X_test[:, 1], c = 'blue', label = 'Test Data')\n",
    "plt.legend()\n",
    "plt.show()\n",
    "\n",
    "# Resources used:\n",
    "# https://scikit-learn.org/stable/modules/svm.html\n",
    "# https://scikit-learn.org/stable/auto_examples/svm/plot_linearsvc_support_vectors.html"
   ]
  },
  {
   "cell_type": "markdown",
   "metadata": {},
   "source": [
    "## C."
   ]
  },
  {
   "cell_type": "code",
   "execution_count": 17,
   "metadata": {},
   "outputs": [
    {
     "name": "stdout",
     "output_type": "stream",
     "text": [
      "Accuracy: 85.69 %\n",
      "Standard Deviation: 5.80 %\n"
     ]
    }
   ],
   "source": [
    "from sklearn.model_selection import cross_val_score\n",
    "\n",
    "accuracies = cross_val_score(estimator = classifier, X = X_train, y = y_train, cv = 10)\n",
    "print(\"Accuracy: {:.2f} %\".format(accuracies.mean()*100))\n",
    "print(\"Standard Deviation: {:.2f} %\".format(accuracies.std()*100))"
   ]
  },
  {
   "cell_type": "markdown",
   "metadata": {},
   "source": [
    "Increasing the k can impact the accuracy of your SVM model. Values of around 5 and 10 are said to be the least variance and bias, per this module. That is why we used the value 10 for the cv in the code above. The larger the k, the smaller the variance. This means that is has a low bias when it comes to the test error. \n",
    "Despite this, a larger k increases bias. The largest possible value of k is the number of training points. A larger k would mean more distant neighbors and more training on less data.\n",
    "\n",
    "Resources:\n",
    "https://hal.science/hal-01657491/document"
   ]
  },
  {
   "cell_type": "markdown",
   "metadata": {},
   "source": [
    "## D."
   ]
  },
  {
   "cell_type": "markdown",
   "metadata": {},
   "source": [
    "### i."
   ]
  },
  {
   "cell_type": "code",
   "execution_count": 18,
   "metadata": {},
   "outputs": [],
   "source": [
    "X = df.drop('Class', axis = 1)\n",
    "y = df['Class']\n",
    "\n",
    "X_train, X_test, y_train, y_test = train_test_split(X, y, test_size = 0.5, random_state = 0)"
   ]
  },
  {
   "cell_type": "code",
   "execution_count": 19,
   "metadata": {},
   "outputs": [
    {
     "name": "stdout",
     "output_type": "stream",
     "text": [
      "       Area  MajorAxisLength  MinorAxisLength  Eccentricity  ConvexArea  \\\n",
      "679  128442       585.981994       281.601409      0.876960      133704   \n",
      "133   52051       313.703260       213.631738      0.732284       53550   \n",
      "571   79492       422.567329       243.116296      0.817920       82708   \n",
      "223   93559       438.634353       275.582973      0.777991       95750   \n",
      "816   66315       363.578896       234.454452      0.764308       68906   \n",
      "..      ...              ...              ...           ...         ...   \n",
      "835   87039       497.058056       236.212773      0.879866       96247   \n",
      "192   37569       232.427848       208.152006      0.444950       38874   \n",
      "629   83059       440.559971       243.636512      0.833171       88806   \n",
      "559  139399       522.468010       348.282162      0.745407      144034   \n",
      "684   88257       452.924593       254.482193      0.827229       92886   \n",
      "\n",
      "       Extent  Perimeter  \n",
      "679  0.750684   1499.355  \n",
      "133  0.695051    893.451  \n",
      "571  0.637353   1122.831  \n",
      "223  0.687070   1198.259  \n",
      "816  0.688944   1015.021  \n",
      "..        ...        ...  \n",
      "835  0.636981   1271.343  \n",
      "192  0.794371    734.102  \n",
      "629  0.685809   1238.163  \n",
      "559  0.693631   1471.508  \n",
      "684  0.736088   1209.622  \n",
      "\n",
      "[450 rows x 7 columns]\n"
     ]
    }
   ],
   "source": [
    "print(X_train)"
   ]
  },
  {
   "cell_type": "code",
   "execution_count": 20,
   "metadata": {},
   "outputs": [
    {
     "name": "stdout",
     "output_type": "stream",
     "text": [
      "       Area  MajorAxisLength  MinorAxisLength  Eccentricity  ConvexArea  \\\n",
      "492  100443       457.569872       283.611280      0.784743      104186   \n",
      "141   53698       348.223231       197.752897      0.823104       56089   \n",
      "409  104921       452.863013       297.024187      0.754864      108211   \n",
      "31    41809       307.532739       175.085568      0.822114       43838   \n",
      "570  101223       496.533461       276.866203      0.830111      109593   \n",
      "..      ...              ...              ...           ...         ...   \n",
      "392   51539       330.747487       200.957939      0.794253       53060   \n",
      "801  164440       580.775848       362.345574      0.781505      167563   \n",
      "524   56903       360.815292       204.037706      0.824755       59797   \n",
      "614   62451       337.289987       237.705386      0.709455       64499   \n",
      "107   68864       343.676209       261.988439      0.647210       71726   \n",
      "\n",
      "       Extent  Perimeter  \n",
      "492  0.673789   1269.066  \n",
      "141  0.731341    938.705  \n",
      "409  0.726298   1254.861  \n",
      "31   0.697444    828.697  \n",
      "570  0.713612   1345.426  \n",
      "..        ...        ...  \n",
      "392  0.725411    894.039  \n",
      "801  0.770427   1554.365  \n",
      "524  0.718427    980.390  \n",
      "614  0.696275    963.009  \n",
      "107  0.698347   1035.022  \n",
      "\n",
      "[450 rows x 7 columns]\n"
     ]
    }
   ],
   "source": [
    "print(X_test)"
   ]
  },
  {
   "cell_type": "code",
   "execution_count": 21,
   "metadata": {},
   "outputs": [
    {
     "name": "stdout",
     "output_type": "stream",
     "text": [
      "679      Besni\n",
      "133    Kecimen\n",
      "571      Besni\n",
      "223    Kecimen\n",
      "816      Besni\n",
      "        ...   \n",
      "835      Besni\n",
      "192    Kecimen\n",
      "629      Besni\n",
      "559      Besni\n",
      "684      Besni\n",
      "Name: Class, Length: 450, dtype: object\n"
     ]
    }
   ],
   "source": [
    "print(y_train)"
   ]
  },
  {
   "cell_type": "code",
   "execution_count": 22,
   "metadata": {},
   "outputs": [
    {
     "name": "stdout",
     "output_type": "stream",
     "text": [
      "492      Besni\n",
      "141    Kecimen\n",
      "409    Kecimen\n",
      "31     Kecimen\n",
      "570      Besni\n",
      "        ...   \n",
      "392    Kecimen\n",
      "801      Besni\n",
      "524      Besni\n",
      "614      Besni\n",
      "107    Kecimen\n",
      "Name: Class, Length: 450, dtype: object\n"
     ]
    }
   ],
   "source": [
    "print(y_test)"
   ]
  },
  {
   "cell_type": "code",
   "execution_count": 23,
   "metadata": {},
   "outputs": [],
   "source": [
    "sc = StandardScaler()\n",
    "X_train = sc.fit_transform(X_train)\n",
    "X_test = sc.transform(X_test)"
   ]
  },
  {
   "cell_type": "markdown",
   "metadata": {},
   "source": [
    "### ii."
   ]
  },
  {
   "cell_type": "code",
   "execution_count": 24,
   "metadata": {},
   "outputs": [
    {
     "data": {
      "text/html": [
       "<style>#sk-container-id-2 {color: black;background-color: white;}#sk-container-id-2 pre{padding: 0;}#sk-container-id-2 div.sk-toggleable {background-color: white;}#sk-container-id-2 label.sk-toggleable__label {cursor: pointer;display: block;width: 100%;margin-bottom: 0;padding: 0.3em;box-sizing: border-box;text-align: center;}#sk-container-id-2 label.sk-toggleable__label-arrow:before {content: \"▸\";float: left;margin-right: 0.25em;color: #696969;}#sk-container-id-2 label.sk-toggleable__label-arrow:hover:before {color: black;}#sk-container-id-2 div.sk-estimator:hover label.sk-toggleable__label-arrow:before {color: black;}#sk-container-id-2 div.sk-toggleable__content {max-height: 0;max-width: 0;overflow: hidden;text-align: left;background-color: #f0f8ff;}#sk-container-id-2 div.sk-toggleable__content pre {margin: 0.2em;color: black;border-radius: 0.25em;background-color: #f0f8ff;}#sk-container-id-2 input.sk-toggleable__control:checked~div.sk-toggleable__content {max-height: 200px;max-width: 100%;overflow: auto;}#sk-container-id-2 input.sk-toggleable__control:checked~label.sk-toggleable__label-arrow:before {content: \"▾\";}#sk-container-id-2 div.sk-estimator input.sk-toggleable__control:checked~label.sk-toggleable__label {background-color: #d4ebff;}#sk-container-id-2 div.sk-label input.sk-toggleable__control:checked~label.sk-toggleable__label {background-color: #d4ebff;}#sk-container-id-2 input.sk-hidden--visually {border: 0;clip: rect(1px 1px 1px 1px);clip: rect(1px, 1px, 1px, 1px);height: 1px;margin: -1px;overflow: hidden;padding: 0;position: absolute;width: 1px;}#sk-container-id-2 div.sk-estimator {font-family: monospace;background-color: #f0f8ff;border: 1px dotted black;border-radius: 0.25em;box-sizing: border-box;margin-bottom: 0.5em;}#sk-container-id-2 div.sk-estimator:hover {background-color: #d4ebff;}#sk-container-id-2 div.sk-parallel-item::after {content: \"\";width: 100%;border-bottom: 1px solid gray;flex-grow: 1;}#sk-container-id-2 div.sk-label:hover label.sk-toggleable__label {background-color: #d4ebff;}#sk-container-id-2 div.sk-serial::before {content: \"\";position: absolute;border-left: 1px solid gray;box-sizing: border-box;top: 0;bottom: 0;left: 50%;z-index: 0;}#sk-container-id-2 div.sk-serial {display: flex;flex-direction: column;align-items: center;background-color: white;padding-right: 0.2em;padding-left: 0.2em;position: relative;}#sk-container-id-2 div.sk-item {position: relative;z-index: 1;}#sk-container-id-2 div.sk-parallel {display: flex;align-items: stretch;justify-content: center;background-color: white;position: relative;}#sk-container-id-2 div.sk-item::before, #sk-container-id-2 div.sk-parallel-item::before {content: \"\";position: absolute;border-left: 1px solid gray;box-sizing: border-box;top: 0;bottom: 0;left: 50%;z-index: -1;}#sk-container-id-2 div.sk-parallel-item {display: flex;flex-direction: column;z-index: 1;position: relative;background-color: white;}#sk-container-id-2 div.sk-parallel-item:first-child::after {align-self: flex-end;width: 50%;}#sk-container-id-2 div.sk-parallel-item:last-child::after {align-self: flex-start;width: 50%;}#sk-container-id-2 div.sk-parallel-item:only-child::after {width: 0;}#sk-container-id-2 div.sk-dashed-wrapped {border: 1px dashed gray;margin: 0 0.4em 0.5em 0.4em;box-sizing: border-box;padding-bottom: 0.4em;background-color: white;}#sk-container-id-2 div.sk-label label {font-family: monospace;font-weight: bold;display: inline-block;line-height: 1.2em;}#sk-container-id-2 div.sk-label-container {text-align: center;}#sk-container-id-2 div.sk-container {/* jupyter's `normalize.less` sets `[hidden] { display: none; }` but bootstrap.min.css set `[hidden] { display: none !important; }` so we also need the `!important` here to be able to override the default hidden behavior on the sphinx rendered scikit-learn.org. See: https://github.com/scikit-learn/scikit-learn/issues/21755 */display: inline-block !important;position: relative;}#sk-container-id-2 div.sk-text-repr-fallback {display: none;}</style><div id=\"sk-container-id-2\" class=\"sk-top-container\"><div class=\"sk-text-repr-fallback\"><pre>SVC(kernel=&#x27;linear&#x27;, random_state=0)</pre><b>In a Jupyter environment, please rerun this cell to show the HTML representation or trust the notebook. <br />On GitHub, the HTML representation is unable to render, please try loading this page with nbviewer.org.</b></div><div class=\"sk-container\" hidden><div class=\"sk-item\"><div class=\"sk-estimator sk-toggleable\"><input class=\"sk-toggleable__control sk-hidden--visually\" id=\"sk-estimator-id-2\" type=\"checkbox\" checked><label for=\"sk-estimator-id-2\" class=\"sk-toggleable__label sk-toggleable__label-arrow\">SVC</label><div class=\"sk-toggleable__content\"><pre>SVC(kernel=&#x27;linear&#x27;, random_state=0)</pre></div></div></div></div></div>"
      ],
      "text/plain": [
       "SVC(kernel='linear', random_state=0)"
      ]
     },
     "execution_count": 24,
     "metadata": {},
     "output_type": "execute_result"
    }
   ],
   "source": [
    "from sklearn.svm import SVC\n",
    "classifier = SVC(kernel = 'linear', random_state = 0)\n",
    "classifier.fit(X_train, y_train)"
   ]
  },
  {
   "cell_type": "code",
   "execution_count": 25,
   "metadata": {},
   "outputs": [
    {
     "name": "stdout",
     "output_type": "stream",
     "text": [
      "['Besni' 'Kecimen' 'Besni' 'Kecimen' 'Besni' 'Besni' 'Besni' 'Kecimen'\n",
      " 'Kecimen' 'Besni' 'Besni' 'Kecimen' 'Kecimen' 'Kecimen' 'Besni' 'Kecimen'\n",
      " 'Kecimen' 'Besni' 'Besni' 'Besni' 'Kecimen' 'Besni' 'Besni' 'Besni'\n",
      " 'Kecimen' 'Kecimen' 'Kecimen' 'Besni' 'Besni' 'Besni' 'Kecimen' 'Besni'\n",
      " 'Kecimen' 'Besni' 'Besni' 'Besni' 'Kecimen' 'Kecimen' 'Besni' 'Besni'\n",
      " 'Kecimen' 'Kecimen' 'Kecimen' 'Besni' 'Besni' 'Besni' 'Kecimen' 'Kecimen'\n",
      " 'Kecimen' 'Besni' 'Kecimen' 'Kecimen' 'Kecimen' 'Kecimen' 'Besni'\n",
      " 'Kecimen' 'Kecimen' 'Besni' 'Kecimen' 'Kecimen' 'Besni' 'Kecimen'\n",
      " 'Kecimen' 'Besni' 'Kecimen' 'Besni' 'Besni' 'Besni' 'Kecimen' 'Besni'\n",
      " 'Besni' 'Besni' 'Kecimen' 'Besni' 'Kecimen' 'Besni' 'Besni' 'Kecimen'\n",
      " 'Kecimen' 'Kecimen' 'Kecimen' 'Besni' 'Besni' 'Kecimen' 'Besni' 'Besni'\n",
      " 'Besni' 'Besni' 'Kecimen' 'Kecimen' 'Kecimen' 'Kecimen' 'Besni' 'Besni'\n",
      " 'Besni' 'Besni' 'Kecimen' 'Besni' 'Besni' 'Kecimen' 'Besni' 'Kecimen'\n",
      " 'Kecimen' 'Besni' 'Besni' 'Kecimen' 'Besni' 'Besni' 'Besni' 'Besni'\n",
      " 'Kecimen' 'Kecimen' 'Besni' 'Kecimen' 'Besni' 'Besni' 'Besni' 'Besni'\n",
      " 'Kecimen' 'Kecimen' 'Besni' 'Besni' 'Besni' 'Besni' 'Kecimen' 'Kecimen'\n",
      " 'Besni' 'Kecimen' 'Kecimen' 'Kecimen' 'Kecimen' 'Kecimen' 'Besni' 'Besni'\n",
      " 'Kecimen' 'Besni' 'Besni' 'Kecimen' 'Besni' 'Besni' 'Besni' 'Besni'\n",
      " 'Kecimen' 'Besni' 'Kecimen' 'Kecimen' 'Kecimen' 'Kecimen' 'Kecimen'\n",
      " 'Besni' 'Kecimen' 'Besni' 'Kecimen' 'Kecimen' 'Kecimen' 'Besni' 'Kecimen'\n",
      " 'Besni' 'Kecimen' 'Kecimen' 'Kecimen' 'Besni' 'Kecimen' 'Besni' 'Besni'\n",
      " 'Besni' 'Kecimen' 'Kecimen' 'Besni' 'Kecimen' 'Kecimen' 'Kecimen'\n",
      " 'Kecimen' 'Besni' 'Besni' 'Kecimen' 'Kecimen' 'Besni' 'Kecimen' 'Kecimen'\n",
      " 'Kecimen' 'Kecimen' 'Kecimen' 'Kecimen' 'Kecimen' 'Kecimen' 'Besni'\n",
      " 'Kecimen' 'Besni' 'Besni' 'Besni' 'Kecimen' 'Besni' 'Kecimen' 'Kecimen'\n",
      " 'Kecimen' 'Besni' 'Kecimen' 'Kecimen' 'Besni' 'Kecimen' 'Besni' 'Kecimen'\n",
      " 'Kecimen' 'Kecimen' 'Besni' 'Besni' 'Kecimen' 'Kecimen' 'Besni' 'Kecimen'\n",
      " 'Kecimen' 'Kecimen' 'Besni' 'Besni' 'Kecimen' 'Kecimen' 'Kecimen'\n",
      " 'Kecimen' 'Besni' 'Kecimen' 'Kecimen' 'Kecimen' 'Kecimen' 'Kecimen'\n",
      " 'Besni' 'Kecimen' 'Kecimen' 'Kecimen' 'Besni' 'Kecimen' 'Kecimen' 'Besni'\n",
      " 'Kecimen' 'Kecimen' 'Kecimen' 'Kecimen' 'Besni' 'Kecimen' 'Kecimen'\n",
      " 'Besni' 'Kecimen' 'Kecimen' 'Kecimen' 'Kecimen' 'Besni' 'Besni' 'Besni'\n",
      " 'Kecimen' 'Besni' 'Kecimen' 'Besni' 'Besni' 'Besni' 'Besni' 'Besni'\n",
      " 'Kecimen' 'Kecimen' 'Besni' 'Kecimen' 'Kecimen' 'Besni' 'Besni' 'Besni'\n",
      " 'Kecimen' 'Kecimen' 'Kecimen' 'Kecimen' 'Besni' 'Kecimen' 'Kecimen'\n",
      " 'Kecimen' 'Besni' 'Kecimen' 'Besni' 'Besni' 'Besni' 'Kecimen' 'Besni'\n",
      " 'Kecimen' 'Kecimen' 'Kecimen' 'Kecimen' 'Besni' 'Kecimen' 'Kecimen'\n",
      " 'Kecimen' 'Kecimen' 'Kecimen' 'Kecimen' 'Besni' 'Kecimen' 'Kecimen'\n",
      " 'Besni' 'Besni' 'Besni' 'Kecimen' 'Besni' 'Besni' 'Besni' 'Kecimen'\n",
      " 'Besni' 'Kecimen' 'Besni' 'Kecimen' 'Kecimen' 'Besni' 'Kecimen' 'Kecimen'\n",
      " 'Besni' 'Besni' 'Kecimen' 'Besni' 'Kecimen' 'Kecimen' 'Besni' 'Kecimen'\n",
      " 'Besni' 'Kecimen' 'Besni' 'Kecimen' 'Kecimen' 'Kecimen' 'Besni' 'Kecimen'\n",
      " 'Kecimen' 'Besni' 'Kecimen' 'Kecimen' 'Kecimen' 'Besni' 'Kecimen' 'Besni'\n",
      " 'Kecimen' 'Kecimen' 'Besni' 'Kecimen' 'Kecimen' 'Kecimen' 'Besni' 'Besni'\n",
      " 'Kecimen' 'Kecimen' 'Kecimen' 'Kecimen' 'Kecimen' 'Kecimen' 'Besni'\n",
      " 'Besni' 'Kecimen' 'Besni' 'Kecimen' 'Besni' 'Besni' 'Besni' 'Kecimen'\n",
      " 'Besni' 'Besni' 'Besni' 'Kecimen' 'Besni' 'Kecimen' 'Besni' 'Kecimen'\n",
      " 'Kecimen' 'Besni' 'Kecimen' 'Besni' 'Kecimen' 'Besni' 'Kecimen' 'Besni'\n",
      " 'Besni' 'Kecimen' 'Kecimen' 'Besni' 'Besni' 'Besni' 'Kecimen' 'Kecimen'\n",
      " 'Kecimen' 'Besni' 'Kecimen' 'Besni' 'Kecimen' 'Kecimen' 'Kecimen' 'Besni'\n",
      " 'Kecimen' 'Besni' 'Besni' 'Besni' 'Kecimen' 'Kecimen' 'Besni' 'Kecimen'\n",
      " 'Kecimen' 'Besni' 'Kecimen' 'Kecimen' 'Besni' 'Kecimen' 'Kecimen' 'Besni'\n",
      " 'Besni' 'Kecimen' 'Kecimen' 'Kecimen' 'Besni' 'Kecimen' 'Besni' 'Kecimen'\n",
      " 'Kecimen' 'Besni' 'Kecimen' 'Kecimen' 'Kecimen' 'Kecimen' 'Kecimen'\n",
      " 'Kecimen' 'Besni' 'Kecimen' 'Kecimen' 'Kecimen' 'Kecimen' 'Kecimen'\n",
      " 'Kecimen' 'Besni' 'Besni' 'Besni' 'Kecimen' 'Besni' 'Kecimen' 'Kecimen'\n",
      " 'Besni' 'Besni' 'Besni' 'Kecimen' 'Kecimen' 'Kecimen' 'Kecimen' 'Besni'\n",
      " 'Besni' 'Kecimen' 'Kecimen' 'Kecimen' 'Besni' 'Kecimen' 'Kecimen'\n",
      " 'Kecimen']\n"
     ]
    }
   ],
   "source": [
    "y_pred = classifier.predict(X_test)\n",
    "print(y_pred)"
   ]
  },
  {
   "cell_type": "code",
   "execution_count": 26,
   "metadata": {},
   "outputs": [
    {
     "name": "stdout",
     "output_type": "stream",
     "text": [
      "[[177  43]\n",
      " [ 19 211]]\n",
      "Accuracy score: 0.8622222222222222\n"
     ]
    }
   ],
   "source": [
    "from sklearn.metrics import confusion_matrix, accuracy_score\n",
    "cm = confusion_matrix(y_test, y_pred)\n",
    "print(cm)\n",
    "print(\"Accuracy score:\", accuracy_score(y_test, y_pred))\n",
    "a2 = accuracy_score(y_test, y_pred)"
   ]
  },
  {
   "cell_type": "code",
   "execution_count": 27,
   "metadata": {},
   "outputs": [
    {
     "data": {
      "image/png": "[encoded data removed]",
      "text/plain": [
       "<Figure size 640x480 with 2 Axes>"
      ]
     },
     "metadata": {},
     "output_type": "display_data"
    }
   ],
   "source": [
    "disp = ConfusionMatrixDisplay(confusion_matrix = cm, display_labels = classifier.classes_)\n",
    "disp.plot()\n",
    "plt.show()"
   ]
  },
  {
   "cell_type": "code",
   "execution_count": 28,
   "metadata": {
    "scrolled": false
   },
   "outputs": [
    {
     "data": {
      "image/png": "[encoded data removed]",
      "text/plain": [
       "<Figure size 640x480 with 1 Axes>"
      ]
     },
     "metadata": {},
     "output_type": "display_data"
    }
   ],
   "source": [
    "support_vectors = classifier.support_vectors_\n",
    "\n",
    "plt.scatter(support_vectors[:, 0], support_vectors[:, 1], c = 'black')\n",
    "plt.scatter(X_train[:, 0], X_train[:, 1], c = 'red', label = 'Training Data')\n",
    "plt.scatter(X_test[:, 0], X_test[:, 1], c = 'blue', label = 'Test Data')\n",
    "plt.legend()\n",
    "plt.show()"
   ]
  },
  {
   "cell_type": "markdown",
   "metadata": {},
   "source": [
    "### iii."
   ]
  },
  {
   "cell_type": "code",
   "execution_count": 29,
   "metadata": {},
   "outputs": [
    {
     "name": "stdout",
     "output_type": "stream",
     "text": [
      "Accuracy score of 80-20:  0.9055555555555556\n",
      "Accuracy score of 50-50: 0.8622222222222222\n"
     ]
    }
   ],
   "source": [
    "print(\"Accuracy score of 80-20: \", a1)\n",
    "print(\"Accuracy score of 50-50:\", a2)"
   ]
  },
  {
   "cell_type": "markdown",
   "metadata": {},
   "source": [
    "The accuracy of the SVM model for the 80-20 ratio is higher than that of the 50-50 ratio. Based of off these results, we can conclude that the SVM model is more accurate when training on the larger portion of the data (or 80% here)."
   ]
  }
 ],
 "metadata": {
  "kernelspec": {
   "display_name": "Python 3 (ipykernel)",
   "language": "python",
   "name": "python3"
  },
  "language_info": {
   "codemirror_mode": {
    "name": "ipython",
    "version": 3
   },
   "file_extension": ".py",
   "mimetype": "text/x-python",
   "name": "python",
   "nbconvert_exporter": "python",
   "pygments_lexer": "ipython3",
   "version": "3.10.9"
  }
 },
 "nbformat": 4,
 "nbformat_minor": 4
}
