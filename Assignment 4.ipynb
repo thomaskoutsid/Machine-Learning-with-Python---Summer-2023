{
 "cells": [
  {
   "cell_type": "markdown",
   "id": "72d31075",
   "metadata": {},
   "source": [
    "Thomas Koutsidis"
   ]
  },
  {
   "cell_type": "code",
   "execution_count": 1,
   "id": "f8e8959c",
   "metadata": {},
   "outputs": [],
   "source": [
    "import pandas as pd"
   ]
  },
  {
   "cell_type": "code",
   "execution_count": 2,
   "id": "ab42678f",
   "metadata": {},
   "outputs": [],
   "source": [
    "with open('TrainingDataPositive.txt', 'r') as file:\n",
    "    positive = file.readlines()\n",
    "with open('TrainingDataNegative.txt', 'r') as file:\n",
    "    negative = file.readlines()\n",
    "with open('testSet.txt', 'r') as file:\n",
    "    test = file.readlines()\n",
    "    \n",
    "# Resources used:   \n",
    "# https://www.learnbyexample.org/python-open-function/\n",
    "# https://www.w3schools.com/python/python_file_open.asp"
   ]
  },
  {
   "cell_type": "code",
   "execution_count": 3,
   "id": "77f039c2",
   "metadata": {},
   "outputs": [],
   "source": [
    "import re\n",
    "def preProcessFile(text):\n",
    "    text = text.lower()\n",
    "    text = re.sub(r\"[^\\w\\s]\", \"\", text)\n",
    "    text = text.replace('\\n', '')\n",
    "    return text"
   ]
  },
  {
   "cell_type": "code",
   "execution_count": 4,
   "id": "e48f2148",
   "metadata": {},
   "outputs": [],
   "source": [
    "positive = [preProcessFile(review) for review in positive]\n",
    "negative = [preProcessFile(review) for review in negative]\n",
    "test = [preProcessFile(review) for review in test]"
   ]
  },
  {
   "cell_type": "code",
   "execution_count": 5,
   "id": "d37fc943",
   "metadata": {},
   "outputs": [],
   "source": [
    "pos_reviews = {'review': positive, 'label': 'positive'}\n",
    "neg_reviews = {'review': negative, 'label': 'negative'}\n",
    "df = pd.concat([pd.DataFrame(pos_reviews), pd.DataFrame(neg_reviews)], ignore_index = True)"
   ]
  },
  {
   "cell_type": "code",
   "execution_count": 6,
   "id": "eda08880",
   "metadata": {},
   "outputs": [],
   "source": [
    "from sklearn.feature_extraction.text import TfidfVectorizer\n",
    "\n",
    "v = TfidfVectorizer(lowercase = True, stop_words = 'english')\n",
    "X = v.fit_transform(df['review']).toarray()\n",
    "y = df['label']\n",
    "\n",
    "# Resources used:\n",
    "# https://scikit-learn.org/stable/modules/generated/sklearn.feature_extraction.text.TfidfVectorizer.html\n",
    "# https://enjoymachinelearning.com/blog/countvectorizer-vs-tfidfvectorizer/#:~:text=CountVectorizer%20simply%20counts%20the%20number,is%20to%20the%20whole%20corpus."
   ]
  },
  {
   "cell_type": "markdown",
   "id": "d8c4d384",
   "metadata": {},
   "source": [
    "# 1."
   ]
  },
  {
   "cell_type": "code",
   "execution_count": 7,
   "id": "9f1e3062",
   "metadata": {},
   "outputs": [],
   "source": [
    "from sklearn.model_selection import train_test_split\n",
    "\n",
    "X_train, X_test, y_train, y_test = train_test_split(X, y, test_size = 0.2, random_state = 0)"
   ]
  },
  {
   "cell_type": "code",
   "execution_count": 8,
   "id": "4e3d03e9",
   "metadata": {},
   "outputs": [
    {
     "data": {
      "text/plain": [
       "GaussianNB()"
      ]
     },
     "execution_count": 8,
     "metadata": {},
     "output_type": "execute_result"
    }
   ],
   "source": [
    "from sklearn.naive_bayes import GaussianNB\n",
    "\n",
    "classifier = GaussianNB()\n",
    "classifier.fit(X_train, y_train)"
   ]
  },
  {
   "cell_type": "code",
   "execution_count": 9,
   "id": "c0440f30",
   "metadata": {},
   "outputs": [],
   "source": [
    "from sklearn.preprocessing import StandardScaler\n",
    "\n",
    "sc = StandardScaler()\n",
    "X_train = sc.fit_transform(X_train)\n",
    "X_test = sc.transform(X_test)"
   ]
  },
  {
   "cell_type": "code",
   "execution_count": 10,
   "id": "3d6d5280",
   "metadata": {},
   "outputs": [],
   "source": [
    "X_test_proc = v.transform(test).toarray()\n",
    "X_test_proc = sc.transform(X_test_proc)\n",
    "y_pred = classifier.predict(X_test_proc)"
   ]
  },
  {
   "cell_type": "code",
   "execution_count": 11,
   "id": "d8aac83c",
   "metadata": {
    "scrolled": true
   },
   "outputs": [
    {
     "name": "stdout",
     "output_type": "stream",
     "text": [
      "Prediction results:\n",
      " ['positive' 'positive' 'negative' ... 'positive' 'positive' 'positive']\n"
     ]
    }
   ],
   "source": [
    "print(\"Prediction results:\\n\", y_pred)"
   ]
  },
  {
   "cell_type": "code",
   "execution_count": 12,
   "id": "be8acf1f",
   "metadata": {},
   "outputs": [],
   "source": [
    "testset = ['positive' if i < 2989 else 'negative' for i in range(len(test))]"
   ]
  },
  {
   "cell_type": "code",
   "execution_count": 13,
   "id": "ca95d92f",
   "metadata": {},
   "outputs": [
    {
     "name": "stdout",
     "output_type": "stream",
     "text": [
      "Confusion Matrix:\n",
      " [[ 554  778]\n",
      " [ 359 2630]]\n"
     ]
    }
   ],
   "source": [
    "from sklearn.metrics import confusion_matrix\n",
    "\n",
    "cm1 = confusion_matrix(testset, y_pred)\n",
    "print(\"Confusion Matrix:\\n\", cm1)"
   ]
  },
  {
   "cell_type": "code",
   "execution_count": 14,
   "id": "fbc0a42b",
   "metadata": {},
   "outputs": [
    {
     "name": "stdout",
     "output_type": "stream",
     "text": [
      "Accuracy Score: 0.7368664660958112\n"
     ]
    }
   ],
   "source": [
    "from sklearn.metrics import accuracy_score\n",
    "\n",
    "accuracy1 = accuracy_score(testset, y_pred)\n",
    "print(\"Accuracy Score:\", accuracy1)"
   ]
  },
  {
   "cell_type": "code",
   "execution_count": 15,
   "id": "3fac9b71",
   "metadata": {},
   "outputs": [
    {
     "data": {
      "image/png": "[encoded data removed]",
      "text/plain": [
       "<Figure size 640x480 with 2 Axes>"
      ]
     },
     "metadata": {},
     "output_type": "display_data"
    }
   ],
   "source": [
    "import seaborn as sns\n",
    "import matplotlib.pyplot as plt\n",
    "\n",
    "sns.heatmap(cm1, annot = True, cmap = \"GnBu\")\n",
    "plt.title('Confusion Matrix for Naive Bayes')\n",
    "plt.xlabel('Predicted Labels')\n",
    "plt.ylabel('True Labels')\n",
    "plt.show()\n",
    "\n",
    "# Resources used:\n",
    "# https://medium.com/@dtuk81/confusion-matrix-visualization-fc31e3f30fea\n",
    "# https://matplotlib.org/stable/tutorials/colors/colormaps.html"
   ]
  },
  {
   "cell_type": "markdown",
   "id": "771fb6e6",
   "metadata": {},
   "source": [
    "# 2."
   ]
  },
  {
   "cell_type": "code",
   "execution_count": 16,
   "id": "99cfa75f",
   "metadata": {},
   "outputs": [],
   "source": [
    "X_train, X_test, y_train, y_test = train_test_split(X, y, test_size = 0.2, random_state = 0)"
   ]
  },
  {
   "cell_type": "code",
   "execution_count": 17,
   "id": "266f1169",
   "metadata": {},
   "outputs": [
    {
     "data": {
      "text/plain": [
       "SVC(kernel='linear')"
      ]
     },
     "execution_count": 17,
     "metadata": {},
     "output_type": "execute_result"
    }
   ],
   "source": [
    "from sklearn.svm import SVC\n",
    "\n",
    "classifier = SVC(kernel = 'linear')\n",
    "classifier.fit(X_train, y_train)"
   ]
  },
  {
   "cell_type": "code",
   "execution_count": 18,
   "id": "3f45470d",
   "metadata": {},
   "outputs": [],
   "source": [
    "y_pred = classifier.predict(X_test_proc)"
   ]
  },
  {
   "cell_type": "code",
   "execution_count": 19,
   "id": "16a9333c",
   "metadata": {},
   "outputs": [
    {
     "name": "stdout",
     "output_type": "stream",
     "text": [
      "Prediction results:\n",
      " ['positive' 'positive' 'positive' ... 'negative' 'negative' 'negative']\n"
     ]
    }
   ],
   "source": [
    "print(\"Prediction results:\\n\", y_pred)"
   ]
  },
  {
   "cell_type": "code",
   "execution_count": 20,
   "id": "b05525d9",
   "metadata": {},
   "outputs": [
    {
     "name": "stdout",
     "output_type": "stream",
     "text": [
      "Confusion Matrix:\n",
      " [[1268   64]\n",
      " [ 478 2511]]\n"
     ]
    }
   ],
   "source": [
    "cm2 = confusion_matrix(testset, y_pred)\n",
    "print(\"Confusion Matrix:\\n\", cm2)"
   ]
  },
  {
   "cell_type": "code",
   "execution_count": 22,
   "id": "589dcd43",
   "metadata": {},
   "outputs": [
    {
     "name": "stdout",
     "output_type": "stream",
     "text": [
      "Accuracy Score: 0.8745660726683638\n"
     ]
    }
   ],
   "source": [
    "accuracy2 = accuracy_score(testset, y_pred)\n",
    "print(\"Accuracy Score:\", accuracy2)"
   ]
  },
  {
   "cell_type": "code",
   "execution_count": 23,
   "id": "4a5e510c",
   "metadata": {},
   "outputs": [
    {
     "data": {
      "image/png": "[encoded data removed]",
      "text/plain": [
       "<Figure size 640x480 with 2 Axes>"
      ]
     },
     "metadata": {},
     "output_type": "display_data"
    }
   ],
   "source": [
    "import seaborn as sns\n",
    "import matplotlib.pyplot as plt\n",
    "\n",
    "sns.heatmap(cm2, annot = True, cmap = \"GnBu\")\n",
    "plt.title('Confusion Matrix for SVM')\n",
    "plt.xlabel('Predicted Labels')\n",
    "plt.ylabel('True Labels')\n",
    "plt.show()"
   ]
  },
  {
   "cell_type": "markdown",
   "id": "2a31b693",
   "metadata": {},
   "source": [
    "# 3. "
   ]
  },
  {
   "cell_type": "code",
   "execution_count": 24,
   "id": "7d7c6fe5",
   "metadata": {},
   "outputs": [],
   "source": [
    "X_train, X_test, y_train, y_test = train_test_split(X, y, test_size = 0.2, random_state = 0)"
   ]
  },
  {
   "cell_type": "code",
   "execution_count": 25,
   "id": "102e5e24",
   "metadata": {},
   "outputs": [
    {
     "data": {
      "text/plain": [
       "LogisticRegression(random_state=0)"
      ]
     },
     "execution_count": 25,
     "metadata": {},
     "output_type": "execute_result"
    }
   ],
   "source": [
    "from sklearn.linear_model import LogisticRegression\n",
    "\n",
    "classifier = LogisticRegression(random_state = 0)\n",
    "classifier.fit(X_train, y_train)"
   ]
  },
  {
   "cell_type": "code",
   "execution_count": 26,
   "id": "92217caa",
   "metadata": {},
   "outputs": [],
   "source": [
    "y_pred = classifier.predict(X_test_proc)"
   ]
  },
  {
   "cell_type": "code",
   "execution_count": 27,
   "id": "f83cae3f",
   "metadata": {},
   "outputs": [
    {
     "name": "stdout",
     "output_type": "stream",
     "text": [
      "Prediction results:\n",
      " ['positive' 'positive' 'positive' ... 'negative' 'negative' 'negative']\n"
     ]
    }
   ],
   "source": [
    "print(\"Prediction results:\\n\", y_pred)"
   ]
  },
  {
   "cell_type": "code",
   "execution_count": 29,
   "id": "a0b23aeb",
   "metadata": {},
   "outputs": [
    {
     "name": "stdout",
     "output_type": "stream",
     "text": [
      "Confusion Matrix:\n",
      " [[1293   39]\n",
      " [ 412 2577]]\n"
     ]
    }
   ],
   "source": [
    "cm3 = confusion_matrix(testset, y_pred)\n",
    "print(\"Confusion Matrix:\\n\", cm3)"
   ]
  },
  {
   "cell_type": "code",
   "execution_count": 30,
   "id": "8ceb65ff",
   "metadata": {},
   "outputs": [
    {
     "name": "stdout",
     "output_type": "stream",
     "text": [
      "Accuracy Score: 0.8956260124971072\n"
     ]
    }
   ],
   "source": [
    "accuracy3 = accuracy_score(testset, y_pred)\n",
    "print(\"Accuracy Score:\", accuracy3)"
   ]
  },
  {
   "cell_type": "code",
   "execution_count": 31,
   "id": "9c0ddfdc",
   "metadata": {},
   "outputs": [
    {
     "data": {
      "image/png": "[encoded data removed]",
      "text/plain": [
       "<Figure size 640x480 with 2 Axes>"
      ]
     },
     "metadata": {},
     "output_type": "display_data"
    }
   ],
   "source": [
    "import seaborn as sns\n",
    "import matplotlib.pyplot as plt\n",
    "\n",
    "sns.heatmap(cm3, annot = True, cmap = \"GnBu\")\n",
    "plt.title('Confusion Matrix for Logistic Regression')\n",
    "plt.xlabel('Predicted Labels')\n",
    "plt.ylabel('True Labels')\n",
    "plt.show()"
   ]
  },
  {
   "cell_type": "markdown",
   "id": "5c90dd43",
   "metadata": {},
   "source": [
    "# 4."
   ]
  },
  {
   "cell_type": "code",
   "execution_count": 33,
   "id": "166b43c5",
   "metadata": {},
   "outputs": [
    {
     "name": "stdout",
     "output_type": "stream",
     "text": [
      "Accuracy score of Naive Bayes = 0.7368664660958112\n",
      "Accuracy score of SVM = 0.8745660726683638\n",
      "Accuracy score of Logisitic Regression = 0.8956260124971072\n"
     ]
    }
   ],
   "source": [
    "print(\"Accuracy score of Naive Bayes =\", accuracy1)\n",
    "print(\"Accuracy score of SVM =\", accuracy2)\n",
    "print(\"Accuracy score of Logisitic Regression =\", accuracy3)"
   ]
  },
  {
   "cell_type": "code",
   "execution_count": 36,
   "id": "b6d5cb60",
   "metadata": {},
   "outputs": [
    {
     "name": "stdout",
     "output_type": "stream",
     "text": [
      "Conufsion Matrix of Naive Bayes:\n",
      " [[ 554  778]\n",
      " [ 359 2630]]\n",
      "Confusion Matrix of SVM:\n",
      " [[1268   64]\n",
      " [ 478 2511]]\n",
      "Confusion Matrix of Logistic Regression:\n",
      " [[1293   39]\n",
      " [ 412 2577]]\n"
     ]
    }
   ],
   "source": [
    "print(\"Conufsion Matrix of Naive Bayes:\\n\", cm1)\n",
    "print(\"Confusion Matrix of SVM:\\n\", cm2)\n",
    "print(\"Confusion Matrix of Logistic Regression:\\n\", cm3)"
   ]
  },
  {
   "cell_type": "markdown",
   "id": "6ff5cc3e",
   "metadata": {},
   "source": [
    "The algorithm above takes the three text files, opens them and then saves them. After doing some data preprocessing, the text in the data is cleaned. The positive and negative reviews are concatenated into dataframe and feature extraction was applied. The training and test datasets are split and model training can begin. First off, Naive Bayes is applied to this. There is some scaling done and then the testSet.txt is used to compare the predicted results to. This is then done for both SVM and Logistic Regression, as well. We evaluated the models using predict and checked for the accuracy scores. Visualizations of the confusion matrixes are created as well to illustrate the data.\n",
    "\n",
    "Naive Bayes was the least accurate, while Logistic Regression was the most accurate. SVM was in the middle, as the second most accurate. Using the notes and implemented code examples of our modules, I was able to create an algorithm that worked similarly, and gave fairly accurate results. "
   ]
  }
 ],
 "metadata": {
  "kernelspec": {
   "display_name": "Python 3 (ipykernel)",
   "language": "python",
   "name": "python3"
  },
  "language_info": {
   "codemirror_mode": {
    "name": "ipython",
    "version": 3
   },
   "file_extension": ".py",
   "mimetype": "text/x-python",
   "name": "python",
   "nbconvert_exporter": "python",
   "pygments_lexer": "ipython3",
   "version": "3.9.13"
  }
 },
 "nbformat": 4,
 "nbformat_minor": 5
}
